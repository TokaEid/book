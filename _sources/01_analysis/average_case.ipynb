{
 "cells": [
  {
   "cell_type": "markdown",
   "metadata": {},
   "source": [
    "# Average Case Analysis\n",
    "\n",
    "Some algorithms like quicksort use randomness to avoid deterministic pathalogical behavior.  In this case, we can talk about expected runtime for an algorithm.\n",
    "\n",
    "## Quickselect\n",
    "\n",
    "We'll begin with a variant of quicksort that finds the $k$th smallest element in an unordered list $a$, or the $k$-th order statistic $a_{(k)}$.  After an initial call to `partition`, we can tell which array the desired entry lies in by looking at their sizes.  If the left array has $k$ or more entries, then it contains the desired value.  If it has fewer than $k-1$ entries, then the right array contains the desired value  If it has exactly $k-1$ entries, then the desired entry is in the pivot location."
   ]
  },
  {
   "cell_type": "code",
   "execution_count": 17,
   "metadata": {},
   "outputs": [],
   "source": [
    "from numpy.random import randint\n",
    "\n",
    "def partition(a, lo, hi):\n",
    "    \"\"\"\n",
    "    choose a pivot in a[lo:hi+1] randomly\n",
    "    swap all elements of a[lo:hi+1] less than the pivot value to appear before the pivot\n",
    "    swap all elements of a[lo:hi+1] greater than the pivot value to appear after the pivot\n",
    "    \"\"\"\n",
    "    pi = randint(lo, hi+1) # pivot index\n",
    "    a[pi], a[hi] = a[hi], a[pi] # put pivot index in last position: swap(a, pi, hi)\n",
    "    pivot = a[hi]\n",
    "    i = lo # i is the pivot index for elements we have seen so far\n",
    "    for j in range(lo, hi+1):\n",
    "        if a[j] < pivot:\n",
    "            a[i], a[j] = a[j], a[i] # swap(a, i, j)\n",
    "            i = i+1 # increment pivot index\n",
    "    a[i], a[hi] = a[hi], a[i] # put pivot in correct place: swap(a, i, hi)\n",
    "    return i\n",
    "\n",
    "def quickselect(a, k, lo=0, hi=None):\n",
    "    \"\"\"\n",
    "    perform quickselect algorithm on array a\n",
    "    find the k-th largest element of a\n",
    "    modifies a in-place\n",
    "    \"\"\"\n",
    "    if hi is None:\n",
    "        hi = len(a) - 1\n",
    "        \n",
    "    i = partition(a, lo, hi) # returns the position of the pivot\n",
    "    if k < i:\n",
    "        return quickselect(a, k, lo, i-1)\n",
    "    elif k > i:\n",
    "        return quickselect(a, k, i+1, hi)\n",
    "    else: # k == i\n",
    "        return a[k]"
   ]
  },
  {
   "cell_type": "code",
   "execution_count": 18,
   "metadata": {},
   "outputs": [
    {
     "data": {
      "text/plain": [
       "array([5, 1, 8, 6, 2, 9, 7, 3, 0, 4])"
      ]
     },
     "execution_count": 18,
     "metadata": {},
     "output_type": "execute_result"
    }
   ],
   "source": [
    "import numpy as np\n",
    "a = np.arange(10)\n",
    "np.random.shuffle(a)\n",
    "a"
   ]
  },
  {
   "cell_type": "code",
   "execution_count": 22,
   "metadata": {},
   "outputs": [
    {
     "data": {
      "text/plain": [
       "4"
      ]
     },
     "execution_count": 22,
     "metadata": {},
     "output_type": "execute_result"
    }
   ],
   "source": [
    "quickselect(a, 4)"
   ]
  },
  {
   "cell_type": "code",
   "execution_count": 24,
   "metadata": {},
   "outputs": [
    {
     "data": {
      "text/plain": [
       "'d'"
      ]
     },
     "execution_count": 24,
     "metadata": {},
     "output_type": "execute_result"
    }
   ],
   "source": [
    "a = [c for c in 'abcdefg']\n",
    "quickselect(a, 3)"
   ]
  },
  {
   "cell_type": "markdown",
   "metadata": {},
   "source": [
    "## Analysis of Quickselect\n",
    "\n",
    "We'll follow the analysis found in \"Algorithms from The Book\" by Kenneth Lange in both this an the following section.\n",
    "\n",
    "Let $b_n$ denote the expected number of operations to find $a_{(k)}$ on an array $a$ of length $n$.  We'll prove that $b_n \\le 4 n$.  Because it takes $n-1$ operations to create the left and right subarrays, we have\n",
    "\\begin{equation}\n",
    "b_n = n-1 + \\frac{1}{n} \\sum_{j=1}^{k-1} b_{n-j} + \\frac{1}{n} \\sum_{j=k}^n b_{j-1}\n",
    "\\end{equation}\n",
    "The terms in the first summation are the events where we must recurse into the right array, and the terms in the second summation are the events where we must recurse into the left array.  The weighting by $1/n$ reflects the fact that we have equal probability of selecting $a_{(j)}$ as our pivot for all $j = 1,\\dots, n$.\n",
    "\n",
    "We now argue that $b_n \\le cn$, which is trivially true for $n=1$.  We proceed by induction.  Suppose $b_k\\le ck$ for all $k \\le n-1$. Recall $\\sum_{i=1}^m = \\binom{m+1}{2}$, the above expression can be bounded\n",
    "\\begin{align}\n",
    "b_n &\\le n-1 + \\frac{c}{n}\\sum_{j=1}^{k-1} (n-j) + \\frac{c}{n} \\sum_{j=k}^n (j-1)\\\\\n",
    "&= n-1 + \\frac{c}{n}\\bigg[n(k-1) - \\binom{k}{2} + \\binom{n}{2} - \\binom{k-1}{2}\\bigg]\\\\\n",
    "&= n-1 + \\frac{c}{2n}(n^2 + 2nk - 2k^2 - 3n + 4k - 2)\n",
    "\\end{align}\n",
    "\n",
    "We want to find the value of $k$ which maximizes this function (a quadratic in $k$), which is $k= n/2 + 1$.  Substituting this value, we have\n",
    "\\begin{equation}\n",
    "b_n \\le n-1 + \\frac{c}{2n}{3n^2/2 - n}\n",
    "\\end{equation}\n",
    "Which is $\\le cn$ where $c \\ge 4$."
   ]
  },
  {
   "cell_type": "markdown",
   "metadata": {},
   "source": [
    "## Analysis of Quicksort\n",
    "\n",
    "Recall that in [quicksort](recursion.html#Quicksort), we call the partition function in a divide-and-conquer strategy to sort the array $a$."
   ]
  },
  {
   "cell_type": "code",
   "execution_count": 25,
   "metadata": {},
   "outputs": [],
   "source": [
    "def quicksort(a, lo=0, hi=None):\n",
    "    \"\"\"\n",
    "    perform quicksort algorithm on array a\n",
    "    performs operations in-place\n",
    "    \"\"\"\n",
    "    if hi is None:\n",
    "        hi = len(a) - 1\n",
    "        \n",
    "    if lo < hi:\n",
    "        i = partition(a, lo, hi)\n",
    "        quicksort(a, lo, i-1) # recurse on lower half\n",
    "        quicksort(a, i+1, hi) # recurse on higher half\n",
    "        \n",
    "    return a"
   ]
  },
  {
   "cell_type": "code",
   "execution_count": null,
   "metadata": {},
   "outputs": [],
   "source": []
  }
 ],
 "metadata": {
  "kernelspec": {
   "display_name": "Python (pycourse)",
   "language": "python",
   "name": "pycourse"
  },
  "language_info": {
   "codemirror_mode": {
    "name": "ipython",
    "version": 3
   },
   "file_extension": ".py",
   "mimetype": "text/x-python",
   "name": "python",
   "nbconvert_exporter": "python",
   "pygments_lexer": "ipython3",
   "version": "3.8.3"
  }
 },
 "nbformat": 4,
 "nbformat_minor": 4
}

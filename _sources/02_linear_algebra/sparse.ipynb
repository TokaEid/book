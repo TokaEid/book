{
 "cells": [
  {
   "cell_type": "markdown",
   "metadata": {},
   "source": [
    "# Sparse Matrices"
   ]
  },
  {
   "cell_type": "code",
   "execution_count": 18,
   "metadata": {},
   "outputs": [
    {
     "name": "stdout",
     "output_type": "stream",
     "text": [
      "Populating the interactive namespace from numpy and matplotlib\n"
     ]
    }
   ],
   "source": [
    "%pylab inline\n",
    "import scipy as sp\n",
    "import scipy.sparse as sparse\n",
    "import scipy.sparse.linalg as sla"
   ]
  },
  {
   "cell_type": "markdown",
   "metadata": {},
   "source": [
    "A $m\\times n$ matrix is **sparse** if it has few non-zero entries in comparison to all $mn$ total entries.  Sparsity is a qualitative notion - it might mean we have $O(\\min\\{m,n\\})$ non-zero entries (for example, a diagonal matrix), it might also mean we have $O(mn)$ entries, but the constant is small (for example, $mn/100$).  A **dense** matrix is not sparse, meaning that most (or all) of the entries are non-zero.\n",
    "\n",
    "Recall the formula for matrix-vector multiplication: \n",
    "```{math}\n",
    ":label: matvec\n",
    "y_i = \\sum_j A_{i,j} x_j\n",
    "```\n",
    "\n",
    "When we multiply a vector (or matrix) by a sparse matrix, most of the coefficients are zero, and so we might expect that we can apply the matrix more quickly than we might apply a dense matrix.  We can re-write the matrix-vector multiplication formula as\n",
    "```{math}\n",
    ":label: sparse_matvec\n",
    "y_i = \\sum_{j\\in nz(i)} A_{i,j} x_j\n",
    "```\n",
    "\n",
    "Where $nz(i)$ denotes the column indices $j$ for which $A_{i,j}$ is non-zero.  We see the complexity of multiplying a sparse matrix is $O(nnz(A))$, where $nnz(A)$ is the number of non-zeros (note that when $A$ is dense, $nnz(A) = mn$)."
   ]
  },
  {
   "cell_type": "markdown",
   "metadata": {},
   "source": [
    "## Sparse Matrix Formats\n",
    "\n",
    "There are a variety of ways sparse matrices are stored in practice.  The utility of each format depends on whether there is any structure in the non-zeros, or what the matrix will be used for.\n",
    "\n",
    "Scipy provides several standard types of sparse matrices in `sicpy.sparse`.  See the [documentation](https://docs.scipy.org/doc/scipy/reference/sparse.html#sparse-matrix-classes).\n",
    "\n",
    "### COOrdinate Format\n",
    "\n",
    "Perhaps the easiest to describe is the COO (COOrdinate format), which just stores three lists `i,j,data`, where `i[k]` and  `j[k]` are the row and column indices for a non-zero entry with value `data[k]`.\n",
    "\n",
    "Scipy documentation is [here](https://docs.scipy.org/doc/scipy/reference/generated/scipy.sparse.coo_matrix.html#scipy.sparse.coo_matrix)"
   ]
  },
  {
   "cell_type": "code",
   "execution_count": 25,
   "metadata": {},
   "outputs": [
    {
     "data": {
      "text/plain": [
       "array([[1, 0, 0],\n",
       "       [0, 1, 0],\n",
       "       [0, 0, 1]])"
      ]
     },
     "execution_count": 25,
     "metadata": {},
     "output_type": "execute_result"
    }
   ],
   "source": [
    "row  = [0,2,1]\n",
    "col  = [0,2,1]\n",
    "val  = [1,1,1]\n",
    "\n",
    "S = sparse.coo_matrix((val, (row,col)), shape=(3,3))\n",
    "S.toarray()"
   ]
  },
  {
   "cell_type": "code",
   "execution_count": 73,
   "metadata": {},
   "outputs": [
    {
     "data": {
      "text/plain": [
       "array([[1, 0, 0],\n",
       "       [0, 1, 0],\n",
       "       [2, 0, 1]])"
      ]
     },
     "execution_count": 73,
     "metadata": {},
     "output_type": "execute_result"
    }
   ],
   "source": [
    "row  = [0,1,2,2]\n",
    "col  = [0,1,2,0]\n",
    "val  = [1,1,1,2]\n",
    "\n",
    "S = sparse.coo_matrix((val, (row,col)), shape=(3,3))\n",
    "S.toarray()"
   ]
  },
  {
   "cell_type": "markdown",
   "metadata": {},
   "source": [
    "You can visualize the sparsity pattern using PyPlot's `spy` function (this is particularly useful for large sparse matrices)"
   ]
  },
  {
   "cell_type": "code",
   "execution_count": 74,
   "metadata": {},
   "outputs": [
    {
     "data": {
      "image/png": "[encoded data removed]",
      "text/plain": [
       "<Figure size 432x288 with 1 Axes>"
      ]
     },
     "metadata": {
      "needs_background": "light"
     },
     "output_type": "display_data"
    }
   ],
   "source": [
    "plt.spy(S)\n",
    "plt.show()"
   ]
  },
  {
   "cell_type": "markdown",
   "metadata": {},
   "source": [
    "### Compressed Sparse Row/Column Formats\n",
    "\n",
    "One of the disadvantages of COO Matrices are that entries need not be ordered in any way, which can lead to inefficiencies in memory access in matrix-vector or matrix-matrix multiplication.\n",
    "\n",
    "Commonly used formats which keeps entries in a sensible order (without additional structure assumed) are Compressed Sparse Row (CSR) and Compressed Sparse Column (CSC) matrices.  You might think of these as the sparse equivalents of row-major and column-major dense matrices.\n",
    "\n",
    "We'll describe CSC matrices - the transpose is a CSR matrix.\n",
    "\n",
    "If `S` is a CSC matrix with `m` rows, `n` columns, and `nnz` non-zeros, we specify `S` with three lists: `ptr` (length `n+1`), `row` (length `nnz`) and `val` (length `nnz`).  The non-zero row indices for column `j` are stored in `row[ptr[j]:ptr[j+1]]`, and the non-zero values for those rows are stored in `val[ptr[j]:ptr[j+1]]`.  If you're familiar with pointers in a language like C, `ptr` is an array of pointer offsets.\n",
    "\n",
    "Basically, the non-zero entries for each column are stored in contiguous blocks of memory.  This can make it much faster to apply CSC matrices.\n",
    "\n",
    "Scipy documentation is [here](https://docs.scipy.org/doc/scipy/reference/generated/scipy.sparse.csc_matrix.html#scipy.sparse.csc_matrix)"
   ]
  },
  {
   "cell_type": "code",
   "execution_count": 75,
   "metadata": {},
   "outputs": [
    {
     "data": {
      "text/plain": [
       "array([[1, 3, 0],\n",
       "       [0, 1, 0],\n",
       "       [2, 0, 1]])"
      ]
     },
     "execution_count": 75,
     "metadata": {},
     "output_type": "execute_result"
    }
   ],
   "source": [
    "ptr = [0,2,4,5]\n",
    "row = [0,2,0,1,2]\n",
    "val = [1,2,3,1,1]\n",
    "\n",
    "S = sparse.csc_matrix((val, row, ptr), shape=(3,3))\n",
    "S.toarray()"
   ]
  },
  {
   "cell_type": "code",
   "execution_count": 76,
   "metadata": {},
   "outputs": [
    {
     "data": {
      "text/plain": [
       "([0, 1], [3, 1])"
      ]
     },
     "execution_count": 76,
     "metadata": {},
     "output_type": "execute_result"
    }
   ],
   "source": [
    "# the pointer list gives you slices to get the data for each column\n",
    "j = 1\n",
    "row[ptr[j]:ptr[j+1]], val[ptr[j]:ptr[j+1]]"
   ]
  },
  {
   "cell_type": "markdown",
   "metadata": {},
   "source": [
    "### Other Sparse Matrix Types\n",
    "\n",
    "Other matrix types in `scipy.sparse` include:\n",
    "* [`dia_matrix`](https://docs.scipy.org/doc/scipy/reference/generated/scipy.sparse.dia_matrix.html#scipy.sparse.dia_matrix), which is good for diagonal/banded matrices\n",
    "* [`lil_matrix`](https://docs.scipy.org/doc/scipy/reference/generated/scipy.sparse.lil_matrix.html#scipy.sparse.lil_matrix), or a (row-based) list-of-lists matrix, which is good for mutating row operations\n",
    "* [`bsr_matrix`](https://docs.scipy.org/doc/scipy/reference/generated/scipy.sparse.bsr_matrix.html#scipy.sparse.bsr_matrix), or block sparse row, which is good for sparse matrices with dense blocks\n",
    "* [`dok_matrix`](https://docs.scipy.org/doc/scipy/reference/generated/scipy.sparse.dok_matrix.html#scipy.sparse.dok_matrix), or dictionary of keys, which is good for when you want to access and change individual entries quickly."
   ]
  },
  {
   "cell_type": "code",
   "execution_count": 54,
   "metadata": {},
   "outputs": [
    {
     "data": {
      "text/plain": [
       "array([[1, 5, 0],\n",
       "       [0, 2, 6],\n",
       "       [0, 0, 3]])"
      ]
     },
     "execution_count": 54,
     "metadata": {},
     "output_type": "execute_result"
    }
   ],
   "source": [
    "data = np.array([[1,2,3],[4,5,6]])\n",
    "S = sparse.dia_matrix(\n",
    "    (data, [0,1]),\n",
    "    shape=(3,3))\n",
    "S.toarray()"
   ]
  },
  {
   "cell_type": "markdown",
   "metadata": {},
   "source": [
    "### Changing formats\n",
    "\n",
    "If you have a dense matrix, and want to convert it to a sparse matrix format, you can typicially just pass it to a sparse matrix constructor"
   ]
  },
  {
   "cell_type": "code",
   "execution_count": 45,
   "metadata": {},
   "outputs": [
    {
     "data": {
      "text/plain": [
       "<5x5 sparse matrix of type '<class 'numpy.float64'>'\n",
       "\twith 5 stored elements (1 diagonals) in DIAgonal format>"
      ]
     },
     "execution_count": 45,
     "metadata": {},
     "output_type": "execute_result"
    }
   ],
   "source": [
    "A = np.eye(5) # identity\n",
    "As = sparse.dia_matrix(A)\n",
    "As"
   ]
  },
  {
   "cell_type": "markdown",
   "metadata": {},
   "source": [
    "Sparse matrix formats have a `todense` method which converts to a dense matrix."
   ]
  },
  {
   "cell_type": "code",
   "execution_count": 46,
   "metadata": {},
   "outputs": [
    {
     "data": {
      "text/plain": [
       "matrix([[1., 0., 0., 0., 0.],\n",
       "        [0., 1., 0., 0., 0.],\n",
       "        [0., 0., 1., 0., 0.],\n",
       "        [0., 0., 0., 1., 0.],\n",
       "        [0., 0., 0., 0., 1.]])"
      ]
     },
     "execution_count": 46,
     "metadata": {},
     "output_type": "execute_result"
    }
   ],
   "source": [
    "As.todense()"
   ]
  },
  {
   "cell_type": "markdown",
   "metadata": {},
   "source": [
    "You can also us the `toarray` method to get a numpy array without the matrix wrapper"
   ]
  },
  {
   "cell_type": "code",
   "execution_count": 8,
   "metadata": {},
   "outputs": [
    {
     "data": {
      "text/plain": [
       "array([[1., 0., 0., 0., 0.],\n",
       "       [0., 1., 0., 0., 0.],\n",
       "       [0., 0., 1., 0., 0.],\n",
       "       [0., 0., 0., 1., 0.],\n",
       "       [0., 0., 0., 0., 1.]])"
      ]
     },
     "execution_count": 8,
     "metadata": {},
     "output_type": "execute_result"
    }
   ],
   "source": [
    "As.toarray()"
   ]
  },
  {
   "cell_type": "markdown",
   "metadata": {},
   "source": [
    "To convert between sparse matrix formats, you can use `tocsc`, `tocoo`, etc."
   ]
  },
  {
   "cell_type": "code",
   "execution_count": 48,
   "metadata": {},
   "outputs": [
    {
     "data": {
      "text/plain": [
       "<5x5 sparse matrix of type '<class 'numpy.float64'>'\n",
       "\twith 5 stored elements in Compressed Sparse Row format>"
      ]
     },
     "execution_count": 48,
     "metadata": {},
     "output_type": "execute_result"
    }
   ],
   "source": [
    "As2 = As.tocsr()\n",
    "As2"
   ]
  },
  {
   "cell_type": "markdown",
   "metadata": {},
   "source": [
    "### Exercise\n",
    "\n",
    "In this exercise, you will implement a basic Dictionary of Keys matrix.\n",
    "\n",
    "The class should wrap a python dictionary, which takes tuples of ints as keys, and floats as values.  It should also store the shape of the matrix.\n",
    "\n",
    "for example, the data for a $3\\times 3$ identity matrix is"
   ]
  },
  {
   "cell_type": "code",
   "execution_count": 59,
   "metadata": {},
   "outputs": [],
   "source": [
    "data = {(0,0): 1.0, (1,1): 1.0, (2,2): 1.0}"
   ]
  },
  {
   "cell_type": "markdown",
   "metadata": {},
   "source": [
    "Implement the following methods:\n",
    "* [`__getitem__`](https://docs.python.org/3/reference/datamodel.html#object.__getitem__) for accessing an element\n",
    "* [`__setitem__`](https://docs.python.org/3/reference/datamodel.html#object.__setitem__) for setting a value (delete the key if the value is zero)\n",
    "* `nnz()` to return the total number of non-zeros\n",
    "* `matvec(x)` to apply the matrix to a vector, using equation {eq}`sparse_matvec`"
   ]
  },
  {
   "cell_type": "code",
   "execution_count": null,
   "metadata": {},
   "outputs": [],
   "source": [
    "# your code here\n"
   ]
  },
  {
   "cell_type": "code",
   "execution_count": 62,
   "metadata": {
    "tags": [
     "hide-cell"
    ]
   },
   "outputs": [
    {
     "name": "stdout",
     "output_type": "stream",
     "text": [
      "0.0\n"
     ]
    },
    {
     "data": {
      "text/plain": [
       "array([0., 2., 0., 0., 0.])"
      ]
     },
     "execution_count": 62,
     "metadata": {},
     "output_type": "execute_result"
    }
   ],
   "source": [
    "import numpy as np\n",
    "\n",
    "class DOK_matrix():\n",
    "    def __init__(self,data=dict(), shape=(0,0)):\n",
    "        self.shape=shape\n",
    "        self.nzs = data\n",
    "        \n",
    "    def __getitem__(self, arg):\n",
    "        return self.nzs.get(arg, 0.0)\n",
    "    \n",
    "    def __setitem__(self, arg, val):\n",
    "        if val == 0:\n",
    "            self.nzs.pop(arg, val)\n",
    "        self.nzs[arg] = val\n",
    "        \n",
    "    def nnz(self):\n",
    "        \"\"\"\n",
    "        number of non-zeros\n",
    "        \"\"\"\n",
    "        return len(self.nzs)\n",
    "    \n",
    "    def matvec(self, x):\n",
    "        y = np.zeros(self.shape[0])\n",
    "        # loop over nonzero-indices\n",
    "        for inds, v in self.nzs.items():\n",
    "            i, j = inds\n",
    "            y[i] += v * x[j]\n",
    "            \n",
    "        return y\n",
    "    \n",
    "    \n",
    "A = DOK_matrix(shape=(5,5))\n",
    "print(A[1,1])\n",
    "A[1,1] = 1.0\n",
    "x = np.array([1,2,3,4,5])\n",
    "A.matvec(x)"
   ]
  },
  {
   "cell_type": "markdown",
   "metadata": {},
   "source": [
    "## Saving and Loading Sparse Matrices\n",
    "\n",
    "Dense matrices can be easily stored and read from comma-separated value formats using e.g. `np.genfromtxt` and `np.savetxt`.  Because sparse matrices can be stored more efficiently than dense matrices, they have special storage formats.\n",
    "\n",
    "One source of sparse matrices which is used extensively for testing is the University of Florida Sparse Matrix Collection ([Link](https://sparse.tamu.edu/)).  As an example, we'll just read the `1138_bus.mtx` file, which is matrix-market format, and you can download from that link.  This is a plain text file, with a header (every line begins with `%`), and the first row contains three integers: the number of rows, number of columns, and number of nonzeros in the matrix.  For `1138_bus.mtx`, this looks like:\n",
    "```\n",
    "%%MatrixMarket matrix coordinate real symmetric\n",
    "%-------------------------------------------------------------------------------\n",
    "% UF Sparse Matrix Collection, Tim Davis\n",
    "% http://www.cise.ufl.edu/research/sparse/matrices/HB/1138_bus\n",
    "% name: HB/1138_bus\n",
    "% [S ADMITTANCE MATRIX 1138 BUS POWER SYSTEM, D.J.TYLAVSKY, JULY 1985.]\n",
    "% id: 1\n",
    "% date: 1985\n",
    "% author: D. Tylavsky\n",
    "% ed: I. Duff, R. Grimes, J. Lewis\n",
    "% fields: title A name id date author ed kind\n",
    "% kind: power network problem\n",
    "%-------------------------------------------------------------------------------\n",
    "1138 1138 2596\n",
    "```\n",
    "So the matrix is `1138 x 1138` with 2596 nonzeros.\n",
    "Every subsequent row is in the form `row, column, data` - one nonzero in COO format."
   ]
  },
  {
   "cell_type": "markdown",
   "metadata": {},
   "source": [
    "Let's go ahead and load this matrix:"
   ]
  },
  {
   "cell_type": "code",
   "execution_count": 67,
   "metadata": {},
   "outputs": [
    {
     "data": {
      "text/plain": [
       "(2597, 3)"
      ]
     },
     "execution_count": 67,
     "metadata": {},
     "output_type": "execute_result"
    }
   ],
   "source": [
    "data = np.genfromtxt('1138_bus.mtx', comments='%') # skip any rows that begin with `%`\n",
    "data.shape"
   ]
  },
  {
   "cell_type": "markdown",
   "metadata": {},
   "source": [
    "the first non-comment row contains the size of the matrix, so we can handle it separately."
   ]
  },
  {
   "cell_type": "code",
   "execution_count": 68,
   "metadata": {},
   "outputs": [],
   "source": [
    "m, n = int(data[0,0]), int(data[0,1])\n",
    "data = data[1:]"
   ]
  },
  {
   "cell_type": "markdown",
   "metadata": {},
   "source": [
    "matrix market format uses the Fortran convention of beginning indexes at 1, so we need to subtract 1 from indices to get the correct Python indices"
   ]
  },
  {
   "cell_type": "code",
   "execution_count": 69,
   "metadata": {},
   "outputs": [
    {
     "data": {
      "text/plain": [
       "<1138x1138 sparse matrix of type '<class 'numpy.float64'>'\n",
       "\twith 2596 stored elements in COOrdinate format>"
      ]
     },
     "execution_count": 69,
     "metadata": {},
     "output_type": "execute_result"
    }
   ],
   "source": [
    "rows = data[:,0] - 1\n",
    "cols = data[:,1] - 1\n",
    "vals = data[:,2]\n",
    "A = sparse.coo_matrix((vals, (rows, cols)), shape=(m,n))\n",
    "A"
   ]
  },
  {
   "cell_type": "markdown",
   "metadata": {},
   "source": [
    "Let's look at the difference between using the sparse matrix and a dense matrix for matrix-vector multiplications:"
   ]
  },
  {
   "cell_type": "code",
   "execution_count": 70,
   "metadata": {},
   "outputs": [],
   "source": [
    "Acsr = A.tocsr()\n",
    "Adense = A.todense()"
   ]
  },
  {
   "cell_type": "code",
   "execution_count": 71,
   "metadata": {},
   "outputs": [
    {
     "name": "stdout",
     "output_type": "stream",
     "text": [
      "time for CSR multiply: 0.00032711029052734375 sec.\n",
      "time for dense multiply: 0.0088958740234375 sec.\n",
      "CSR is 27.19533527696793x faster\n"
     ]
    }
   ],
   "source": [
    "import time\n",
    "x = np.random.randn(n)\n",
    "y = np.empty_like(x)\n",
    "\n",
    "t0 = time.time()\n",
    "y = Acsr @ x\n",
    "t1 = time.time()\n",
    "print(\"time for CSR multiply: {} sec.\".format(t1 - t0))\n",
    "tcsr = t1 - t0\n",
    "\n",
    "t0 = time.time()\n",
    "y = Adense @ x\n",
    "t1 = time.time()\n",
    "print(\"time for dense multiply: {} sec.\".format(t1 - t0))\n",
    "tdense = t1 - t0\n",
    "\n",
    "print(\"CSR is {}x faster\".format(tdense / tcsr))"
   ]
  },
  {
   "cell_type": "markdown",
   "metadata": {},
   "source": [
    "Depending on what is happening on my system, using the sparse matrix is several times faster than using a dense matrix."
   ]
  },
  {
   "cell_type": "markdown",
   "metadata": {},
   "source": [
    "Depending on what operations you are performing, different matrices have different strengths/weaknesses.  CSR is generally good for matrix-vector multiplication.  For matrix-matrix multiplications, matrices will be converted to CSR or CSC format first, which dominates the time."
   ]
  },
  {
   "cell_type": "code",
   "execution_count": 123,
   "metadata": {},
   "outputs": [
    {
     "name": "stdout",
     "output_type": "stream",
     "text": [
      "matvec:\n",
      "time for CSC matvec: 9.495e-06 sec.\n",
      "time for CSR matvec: 8.687e-06 sec.\n",
      "time for LIL matvec: 1.377e-04 sec.\n",
      "time for COO matvec: 8.286e-06 sec.\n",
      "time for DOK matvec: 1.434e-03 sec.\n",
      "\n",
      "matmat:\n",
      "time for CSC matmat: 2.107e-04 sec. \t<class 'scipy.sparse.csc.csc_matrix'>\n",
      "time for CSR matmat: 2.115e-04 sec. \t<class 'scipy.sparse.csr.csr_matrix'>\n",
      "time for LIL matmat: 4.998e-04 sec. \t<class 'scipy.sparse.csr.csr_matrix'>\n",
      "time for COO matmat: 4.070e-04 sec. \t<class 'scipy.sparse.csr.csr_matrix'>\n",
      "time for DOK matmat: 1.123e-03 sec. \t<class 'scipy.sparse.csr.csr_matrix'>\n"
     ]
    }
   ],
   "source": [
    "fmts = (sparse.csc_matrix, sparse.csr_matrix, sparse.lil_matrix, sparse.coo_matrix, sparse.dok_matrix)\n",
    "names = ('CSC', 'CSR', 'LIL', 'COO', 'DOK')\n",
    "niter_matvec = 100 # number of iterations of matvec\n",
    "niter_matmat = 20 # number of iterations of matmat\n",
    "\n",
    "x = np.random.randn(n)\n",
    "y = np.empty_like(x)\n",
    "\n",
    "# first let's just do a little warmup\n",
    "for fmt, name in zip(fmts, names):\n",
    "    Afmt = fmt(A)\n",
    "    fmt_ts = []\n",
    "    for _ in range(niter_matvec):\n",
    "        t0 = time.monotonic()\n",
    "        y = Afmt @ x\n",
    "        t1 = time.monotonic()\n",
    "        fmt_ts.append(t1 - t0)\n",
    "\n",
    "print(\"matvec:\")\n",
    "for fmt, name in zip(fmts, names):\n",
    "    Afmt = fmt(A)\n",
    "    fmt_ts = []\n",
    "    for _ in range(niter_matvec):\n",
    "        t0 = time.monotonic()\n",
    "        y = Afmt @ x\n",
    "        t1 = time.monotonic()\n",
    "        fmt_ts.append(t1 - t0)\n",
    "    \n",
    "    print(\"time for {} matvec: {:.3e} sec.\".format(name, np.min(fmt_ts)))\n",
    "    \n",
    "\n",
    "print(\"\\nmatmat:\")\n",
    "for fmt, name in zip(fmts, names):\n",
    "    Afmt = fmt(A)\n",
    "    fmt_ts = []\n",
    "    for _ in range(niter_matmat):\n",
    "        t0 = time.monotonic()\n",
    "        B = Afmt @ Afmt\n",
    "        t1 = time.monotonic()\n",
    "        fmt_ts.append(t1 - t0)\n",
    "    \n",
    "    print(\"time for {} matmat: {:.3e} sec. \\t{}\".format(name, np.min(fmt_ts), type(B)))\n",
    "    "
   ]
  },
  {
   "cell_type": "markdown",
   "metadata": {},
   "source": [
    "The COO matrix performance will depend a bit on if the rows/columns are ordered in any way (or not at all).  The matrix above was constructed with entries in CSC order."
   ]
  },
  {
   "cell_type": "code",
   "execution_count": 91,
   "metadata": {},
   "outputs": [
    {
     "data": {
      "text/plain": [
       "True"
      ]
     },
     "execution_count": 91,
     "metadata": {},
     "output_type": "execute_result"
    }
   ],
   "source": [
    "np.all(np.diff(cols) >= 0) # columns are in sorted order"
   ]
  },
  {
   "cell_type": "code",
   "execution_count": 128,
   "metadata": {},
   "outputs": [
    {
     "name": "stdout",
     "output_type": "stream",
     "text": [
      "\n",
      "COO in CSC order\n",
      "time for matvec: 1.422e-05 sec.\n",
      "\n",
      "COO in CSR order\n",
      "time for matvec: 1.168e-05 sec.\n",
      "\n",
      "COO in random order\n",
      "time for matvec: 1.126e-05 sec.\n"
     ]
    }
   ],
   "source": [
    "niter_matvec = 100 # number of iterations of matvec\n",
    "\n",
    "\n",
    "print(\"\\nCOO in CSC order\")\n",
    "A = sparse.coo_matrix((vals, (rows, cols)), shape=(m,n))\n",
    "\n",
    "fmt_ts = []\n",
    "for _ in range(niter_matvec):\n",
    "    t0 = time.monotonic()\n",
    "    y = A @ x\n",
    "    t1 = time.monotonic()\n",
    "    fmt_ts.append(t1 - t0)\n",
    "\n",
    "fmt_ts = []\n",
    "for _ in range(niter_matvec):\n",
    "    t0 = time.monotonic()\n",
    "    y = A @ x\n",
    "    t1 = time.monotonic()\n",
    "    fmt_ts.append(t1 - t0)\n",
    "\n",
    "print(\"time for matvec: {:.3e} sec.\".format( np.min(fmt_ts)))\n",
    "\n",
    "print(\"\\nCOO in CSR order\")\n",
    "perm = np.argsort(rows, kind='stable') # stable sort to keep columns sorted within row\n",
    "A = sparse.coo_matrix((vals[perm], (rows[perm], cols[perm])), shape=(m,n))\n",
    "\n",
    "fmt_ts = []\n",
    "for _ in range(niter_matvec):\n",
    "    t0 = time.monotonic()\n",
    "    y = A @ x\n",
    "    t1 = time.monotonic()\n",
    "    fmt_ts.append(t1 - t0)\n",
    "    \n",
    "fmt_ts = []\n",
    "for _ in range(niter_matvec):\n",
    "    t0 = time.monotonic()\n",
    "    y = A @ x\n",
    "    t1 = time.monotonic()\n",
    "    fmt_ts.append(t1 - t0)\n",
    "\n",
    "print(\"time for matvec: {:.3e} sec.\".format( np.min(fmt_ts)))\n",
    "\n",
    "\n",
    "print(\"\\nCOO in random order\")\n",
    "np.random.seed(0)\n",
    "perm = np.random.permutation(len(vals))\n",
    "A = sparse.coo_matrix((vals[perm], (rows[perm], cols[perm])), shape=(m,n))\n",
    "\n",
    "fmt_ts = []\n",
    "for _ in range(niter_matvec):\n",
    "    t0 = time.monotonic()\n",
    "    y = A @ x\n",
    "    t1 = time.monotonic()\n",
    "    fmt_ts.append(t1 - t0)\n",
    "    \n",
    "fmt_ts = []\n",
    "for _ in range(niter_matvec):\n",
    "    t0 = time.monotonic()\n",
    "    y = A @ x\n",
    "    t1 = time.monotonic()\n",
    "    fmt_ts.append(t1 - t0)\n",
    "\n",
    "print(\"time for matvec: {:.3e} sec.\".format( np.min(fmt_ts)))"
   ]
  },
  {
   "cell_type": "code",
   "execution_count": null,
   "metadata": {},
   "outputs": [],
   "source": []
  }
 ],
 "metadata": {
  "celltoolbar": "Tags",
  "kernelspec": {
   "display_name": "Python (pycourse)",
   "language": "python",
   "name": "pycourse"
  },
  "language_info": {
   "codemirror_mode": {
    "name": "ipython",
    "version": 3
   },
   "file_extension": ".py",
   "mimetype": "text/x-python",
   "name": "python",
   "nbconvert_exporter": "python",
   "pygments_lexer": "ipython3",
   "version": "3.8.3"
  }
 },
 "nbformat": 4,
 "nbformat_minor": 4
}

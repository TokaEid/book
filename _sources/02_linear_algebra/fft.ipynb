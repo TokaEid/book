{
 "cells": [
  {
   "cell_type": "markdown",
   "metadata": {},
   "source": [
    "# The Fast Fourier Transform\n",
    "\n",
    "Recall the discrete Fourier transform (DFT) of a periodic signal of length $N$\n",
    "\\begin{equation}\n",
    "\\hat{f}_k = \\frac{1}{N}\\sum_{n=0}^{N-1} f_n e^{-2\\pi i k n / N}\n",
    "\\end{equation}\n",
    "\n",
    "From the above, the vector $\\hat{f}$ can be computed using a dense matrix-vector product\n",
    "\\begin{equation}\n",
    "\\hat{f} = A f\n",
    "\\end{equation}\n",
    "where $A_{k,n} = 1/N e^{-2\\pi i k n / N}$.  Computing the Fourier transform in this way takes $O(N^2)$ operations.  However, it is possible to do much better - the fast Fourier transform (FFT) computes a DFT in $O(N\\log N)$ operations!  This is another one of the top-10 algorithms of the 20th Century."
   ]
  },
  {
   "cell_type": "markdown",
   "metadata": {},
   "source": [
    "## Derivation of the FFT"
   ]
  },
  {
   "cell_type": "code",
   "execution_count": 3,
   "metadata": {},
   "outputs": [
    {
     "name": "stdout",
     "output_type": "stream",
     "text": [
      "2\n",
      "5\n",
      "8\n"
     ]
    }
   ],
   "source": [
    "for i in range(2,10,3):\n",
    "    print(i)"
   ]
  },
  {
   "cell_type": "code",
   "execution_count": 5,
   "metadata": {},
   "outputs": [],
   "source": [
    "import numpy as np\n",
    "\n",
    "def fft(f, invert=False):\n",
    "    \"\"\"\n",
    "    Fast Fourier transform of vector f\n",
    "    Assumes that length of f is a power of 2\n",
    "    \"\"\"\n",
    "    return # not implemented\n",
    "    N = len(f)\n",
    "    lN = np.int(np.log2(N))\n",
    "    if np.power(2,lN) != N:\n",
    "        raise Exception(\"Length must be power of 2\")\n",
    "    \n",
    "    N2 = N // 2\n",
    "    j = 0\n",
    "    for i in range(N):\n",
    "        if i < j:\n",
    "            f[i], f[j] = f[j], f[i]\n",
    "        \n",
    "        k = N2\n",
    "        while k < j:\n",
    "            j = j - k\n",
    "            k = k // 2\n",
    "            \n",
    "        j = j + k\n",
    "    \n",
    "    for l in range(1,lN+1):\n",
    "        k = np.power(2,l)\n",
    "        k2 = k // 2\n",
    "        u = 1.0 + 0.0j\n",
    "        w = np.exp(-np.pi * 1.0j / k2)\n",
    "        if invert:\n",
    "            w = np.conj(w)\n",
    "        \n",
    "        for j in range(k2):\n",
    "            for i in range(j,N,k): # step of k\n",
    "                m = i + k2\n",
    "                t = f[m] * u\n",
    "                f[m] = f[i] - t\n",
    "                f[i] = f[i] + t\n",
    "                \n",
    "            u = u * w\n",
    "        \n",
    "    if invert:\n",
    "            f = f / N\n",
    "        \n",
    "    return f"
   ]
  },
  {
   "cell_type": "code",
   "execution_count": 6,
   "metadata": {},
   "outputs": [],
   "source": [
    "fft([1,2,-1,-2])"
   ]
  },
  {
   "cell_type": "code",
   "execution_count": null,
   "metadata": {},
   "outputs": [],
   "source": []
  }
 ],
 "metadata": {
  "kernelspec": {
   "display_name": "Python (pycourse)",
   "language": "python",
   "name": "pycourse"
  },
  "language_info": {
   "codemirror_mode": {
    "name": "ipython",
    "version": 3
   },
   "file_extension": ".py",
   "mimetype": "text/x-python",
   "name": "python",
   "nbconvert_exporter": "python",
   "pygments_lexer": "ipython3",
   "version": "3.8.3"
  }
 },
 "nbformat": 4,
 "nbformat_minor": 4
}

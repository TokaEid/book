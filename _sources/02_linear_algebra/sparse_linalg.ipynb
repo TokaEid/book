{
 "cells": [
  {
   "cell_type": "markdown",
   "metadata": {},
   "source": [
    "# Sparse Linear Algebra\n",
    "\n",
    "So far, we have seen how sparse matrices and linear operators can be used to speed up basic matrix-vector and matrix-matrix operations, and decrease the memory footprint of the representation of a linear map.\n",
    "\n",
    "Just as there are special data types for sparse and structured matrices, there are specialized linear algebra routines which allow you to take advantage of sparsity and fast matrix-vector products.\n",
    "\n",
    "Routines for sparse linear algebra are found in `scipy.sparse.linalg`, which we'll import as `sla`"
   ]
  },
  {
   "cell_type": "code",
   "execution_count": 1,
   "metadata": {},
   "outputs": [
    {
     "name": "stdout",
     "output_type": "stream",
     "text": [
      "Populating the interactive namespace from numpy and matplotlib\n"
     ]
    }
   ],
   "source": [
    "%pylab inline\n",
    "import scipy.sparse as sparse\n",
    "import scipy.sparse.linalg as sla"
   ]
  },
  {
   "cell_type": "markdown",
   "metadata": {},
   "source": [
    "## Sparse Direct Methods\n",
    "\n",
    "This typically refers to producing a factorization of a sparse matrix for use in solving linear systems.\n",
    "\n",
    "The thing to keep in mind is that many factorizations will generally be dense, even if the original matrix is sparse.  E.g. eigenvalue decompositions, QR decomposition, SVD, etc.  This means that if we compute a factorization, we are going to lose all the advantages we had from sparsity.  \n",
    "\n",
    "What we really want is a factorization where if `A` is sparse, the terms in the factorization are also sparse.  The factorization where this is easiest to achieve is the LU decomposition.  In general, the `L` and `U` terms will be more dense than `A`, and sometimes much more dense.  However, we can seek a permuted version of the matrix `A` which will minimize the amount of \"fill-in\" which occurs.  This is often done using \"nested disection\" algorithm, which is outside the scope of this course.  If you ever need to do this explicitly, the [METIS package](http://glaros.dtc.umn.edu/gkhome/metis/metis/overview) is commonly used.\n",
    "\n",
    "We'll just use the function [`sla.splu`](https://docs.scipy.org/doc/scipy/reference/generated/scipy.sparse.linalg.splu.html#scipy.sparse.linalg.splu) (SParse LU) at a high level, which produces a factorization object that can be used to solve linear systems."
   ]
  },
  {
   "cell_type": "code",
   "execution_count": 2,
   "metadata": {},
   "outputs": [
    {
     "data": {
      "image/png": "[encoded data removed]",
      "text/plain": [
       "<Figure size 432x288 with 1 Axes>"
      ]
     },
     "metadata": {
      "needs_background": "light"
     },
     "output_type": "display_data"
    }
   ],
   "source": [
    "n = 100\n",
    "A = sparse.random(n, n, 0.01) + sparse.eye(n)\n",
    "plt.spy(A)\n",
    "plt.show()"
   ]
  },
  {
   "cell_type": "code",
   "execution_count": 3,
   "metadata": {},
   "outputs": [
    {
     "data": {
      "text/plain": [
       "<SuperLU at 0x7f7b16c6ea50>"
      ]
     },
     "execution_count": 3,
     "metadata": {},
     "output_type": "execute_result"
    }
   ],
   "source": [
    "A = A.tocsc() # need to convert to CSC form first\n",
    "LU = sla.splu(A)\n",
    "LU"
   ]
  },
  {
   "cell_type": "markdown",
   "metadata": {},
   "source": [
    "The resulting object stores the factors necessary to compute `A = PLUQ` (`P` permutes rows, and `Q` permutes columns).  It is computed using the [SuperLU library](https://portal.nersc.gov/project/sparse/superlu/).  Typically, you will just use the `solve` method on this object."
   ]
  },
  {
   "cell_type": "code",
   "execution_count": 4,
   "metadata": {},
   "outputs": [
    {
     "name": "stdout",
     "output_type": "stream",
     "text": [
      "7.992996078556778e-16\n"
     ]
    }
   ],
   "source": [
    "x = np.random.randn(n)\n",
    "b = A @ x\n",
    "\n",
    "x2 = LU.solve(b)\n",
    "print(np.linalg.norm(x2 - x))"
   ]
  },
  {
   "cell_type": "markdown",
   "metadata": {},
   "source": [
    "you can also use the `sla.spsolve` function, which wraps this factorization."
   ]
  },
  {
   "cell_type": "code",
   "execution_count": 5,
   "metadata": {},
   "outputs": [
    {
     "name": "stdout",
     "output_type": "stream",
     "text": [
      "7.992996078556778e-16\n"
     ]
    }
   ],
   "source": [
    "x2 = sla.spsolve(A, b)\n",
    "print(np.linalg.norm(x2 - x))"
   ]
  },
  {
   "cell_type": "markdown",
   "metadata": {},
   "source": [
    "## Sparse Iterative Methods\n",
    "\n",
    "Sparse iterative methods are another class of methods you can use for solving linear systems built on [Krylov subspaces](https://en.wikipedia.org/wiki/Krylov_subspace).  They only require matrix-vector products, and are ideally used with sparse matrices and fast linear operators.  You can typically learn the theory behind these methods in a numerical linear algebra course - we'll just talk about how to use them. \n",
    "\n",
    "All these methods are meant to solve linear systems: find `x` so that `A @ x = b`, or least squares problems minimizing `norm(A @ x - b)`\n",
    "\n",
    "You can find a list of options in the [documentation for `scipy.sparse.linalg`](https://docs.scipy.org/doc/scipy/reference/sparse.linalg.html#solving-linear-problems).  Here are some common options:\n",
    "\n",
    "* Conjugate Gradient: `sla.cg` for `A` SPD\n",
    "* MINRES: `sla.minres` for `A` symmetric\n",
    "* GMRES: `sla.gmres` for general square `A`\n",
    "* LSQR: `sla.lsqr` for solving least squares problems\n",
    "\n",
    "For example, we can use `gmres` with the same matrix we used for `splu`:"
   ]
  },
  {
   "cell_type": "code",
   "execution_count": 6,
   "metadata": {},
   "outputs": [
    {
     "name": "stdout",
     "output_type": "stream",
     "text": [
      "3.0679216121191045e-15\n"
     ]
    }
   ],
   "source": [
    "x2, exit = sla.gmres(A, b, tol=1e-8) # exit code: 0 if successful\n",
    "print(np.linalg.norm(x2 - x))"
   ]
  },
  {
   "cell_type": "code",
   "execution_count": 8,
   "metadata": {},
   "outputs": [
    {
     "name": "stdout",
     "output_type": "stream",
     "text": [
      "GMRES in 0.0020110607147216797 sec.\n",
      "spsolve in 0.0015516281127929688 sec.\n"
     ]
    }
   ],
   "source": [
    "import time\n",
    "x2 = np.empty_like(x)\n",
    "\n",
    "t0 = time.time()\n",
    "x2, exit = sla.gmres(A, b)\n",
    "t1 = time.time()\n",
    "print(\"GMRES in {} sec.\".format(t1 - t0))\n",
    "\n",
    "t0 = time.time()\n",
    "x2 = sla.spsolve(A, b)\n",
    "t1 = time.time()\n",
    "print(\"spsolve in {} sec.\".format(t1 - t0))"
   ]
  },
  {
   "cell_type": "markdown",
   "metadata": {},
   "source": [
    "### Sparse Direct vs. Iterative Methods\n",
    "\n",
    "There are a couple of trade offs to consider when deciding whether to use sparse direct or iterative algorithms.\n",
    "\n",
    "1.  Are you going to be solving many linear systems with the same matrix `A`?  If so, you can produce a single factorization object using `splu`, and use it to solve many right-hand sides.  Sparse direct probably makes more sense.\n",
    "2. Are you solving a single linear system?  If so, then a single call to an iterative method probably makes mores sense.\n",
    "3. Are you using a fast linear operator that could be expressed as a dense matrix (e.g. sparse plus low-rank)?  Alternatively, would the sparse LU decomposition turn dense because of fill-in?  If so, then iterative methods probably make more sense.\n",
    "4. Do you have a really good preconditioner (see below)?  Then iterative methods probably make more sense."
   ]
  },
  {
   "cell_type": "markdown",
   "metadata": {},
   "source": [
    "### Preconditioning\n",
    "\n",
    "The speed/effectiveness of iterative methods is often dependent on the existence of a good preconditioner. A preconditioner `M` for a matrix `A` is an \"approximate inverse\" i.e. `M @ A` is close to the identity.  Note if we had an exact inverse, we've solved our problem already.  What we want is to have a matrix `M` which is fast to apply (i.e. also sparse like `A`), which generally isn't possible with an exact inverse.\n",
    "\n",
    "Finding a good preconditioner is a huge field of research, and can be very domain-dependent.  A general-purpose method to obtain a preconditioner is to use an Incomplete LU decomposition (this is an LU factorization that stops when the fill-in gets too large). You can obtain one using `sla.spilu`."
   ]
  },
  {
   "cell_type": "code",
   "execution_count": 10,
   "metadata": {},
   "outputs": [
    {
     "data": {
      "text/plain": [
       "<SuperLU at 0x7f7b16c3a540>"
      ]
     },
     "execution_count": 10,
     "metadata": {},
     "output_type": "execute_result"
    }
   ],
   "source": [
    "ILUfact = sla.spilu(A)\n",
    "ILUfact"
   ]
  },
  {
   "cell_type": "code",
   "execution_count": 15,
   "metadata": {},
   "outputs": [
    {
     "name": "stdout",
     "output_type": "stream",
     "text": [
      "9.192397745419307e-16\n",
      "2.8057028434416625e-05\n"
     ]
    }
   ],
   "source": [
    "x = np.random.randn(n)\n",
    "b = A @ x\n",
    "\n",
    "x2 = LU.solve(b)\n",
    "print(np.linalg.norm(x - x2))\n",
    "x3 = ILUfact.solve(b)\n",
    "print(np.linalg.norm(x - x3))"
   ]
  },
  {
   "cell_type": "markdown",
   "metadata": {},
   "source": [
    "You can construct a preconditioner using a `LinearOperator` around the ILU object's solve method"
   ]
  },
  {
   "cell_type": "code",
   "execution_count": 17,
   "metadata": {},
   "outputs": [],
   "source": [
    "M = sla.LinearOperator(\n",
    "    shape = A.shape,\n",
    "    matvec = lambda b: ILUfact.solve(b)\n",
    ")"
   ]
  },
  {
   "cell_type": "code",
   "execution_count": 18,
   "metadata": {},
   "outputs": [
    {
     "name": "stdout",
     "output_type": "stream",
     "text": [
      "2.773647825531693e-05\n"
     ]
    }
   ],
   "source": [
    "x2, exit = sla.gmres(A, b, M=M) # exit code: 0 if successful\n",
    "print(np.linalg.norm(x2 - x))"
   ]
  },
  {
   "cell_type": "code",
   "execution_count": 24,
   "metadata": {},
   "outputs": [
    {
     "name": "stdout",
     "output_type": "stream",
     "text": [
      "GMRES in 3.609e-03 sec.\n",
      "2.5725353283967216e-06\n",
      "preconditioned GMRES in 8.359e-04 sec.\n",
      "2.773647825531693e-05\n"
     ]
    }
   ],
   "source": [
    "t0 = time.time()\n",
    "x2, exit = sla.gmres(A, b)\n",
    "t1 = time.time()\n",
    "print(\"GMRES in {:.3e} sec.\".format(t1 - t0))\n",
    "print(np.linalg.norm(x2 - x))\n",
    "\n",
    "t0 = time.time()\n",
    "x2, exit = sla.gmres(A, b, M=M)\n",
    "t1 = time.time()\n",
    "print(\"preconditioned GMRES in {:.3e} sec.\".format(t1 - t0))\n",
    "print(np.linalg.norm(x2 - x))"
   ]
  },
  {
   "cell_type": "markdown",
   "metadata": {},
   "source": [
    "We get a higher-precision answer in about the same amount of time."
   ]
  },
  {
   "cell_type": "markdown",
   "metadata": {},
   "source": [
    "## Eigenvalues and Eigenvectors\n",
    "\n",
    "Computing a full eigenvalue decomposition of a sparse matrix or fast linear operator doesn't typically make sense (see the the discussion for sparse direct methods).  However, there are a lot of situations in which we want to compute the eigenvalue-eigenvector pairs for a handful of the largest (or smallest) eigenvalues.  \n",
    "\n",
    "`scipy.sparse.linalg` wraps [ARPACK (ARnoldi PACKage)](https://www.caam.rice.edu/software/ARPACK/), which uses Krylov subspace techniques (like the iterative methods) to compute eigenvalues/eigenvectors using matrix-vector multiplications.  The relevant methods are `sla.eigs` (for general square matrices) and `sla.eigsh` (for symmetric/Hermitian matrices).  There is also a `sla.svds` function for the SVD.\n",
    "\n",
    "Let's look at an example for a linear operator which acts as the matrix of all ones."
   ]
  },
  {
   "cell_type": "code",
   "execution_count": 31,
   "metadata": {},
   "outputs": [],
   "source": [
    "# works on square matrices\n",
    "Afun = lambda X : np.sum(X, axis=0).reshape(1,-1).repeat(X.shape[0], axis=0)\n",
    "\n",
    "m =10 # linear operator of size 10\n",
    "\n",
    "A = sla.LinearOperator(\n",
    "    shape   = (m,m),\n",
    "    matvec  = Afun,\n",
    "    rmatvec = Afun,\n",
    "    matmat  = Afun,\n",
    "    rmatmat = Afun,\n",
    "    dtype=np.float   \n",
    ")"
   ]
  },
  {
   "cell_type": "markdown",
   "metadata": {},
   "source": [
    "This operator is Hermitian, so we'll use `eigsh`.  By default, `eigsh` will compute the largest magnitude eigenvalues.  You can change which eigenvalues you're looking for using the `which` keyword argument, and the number of eigenvalues using the `k` argument.  See [the documentation](https://docs.scipy.org/doc/scipy/reference/generated/scipy.sparse.linalg.eigsh.html#scipy.sparse.linalg.eigsh) for details."
   ]
  },
  {
   "cell_type": "code",
   "execution_count": 37,
   "metadata": {},
   "outputs": [],
   "source": [
    "Lam, V = sla.eigsh(A, which='LM', k=4)"
   ]
  },
  {
   "cell_type": "code",
   "execution_count": 38,
   "metadata": {},
   "outputs": [
    {
     "data": {
      "text/plain": [
       "array([-6.18874666e-17, -6.14853510e-33,  9.50065886e-16,  1.00000000e+01])"
      ]
     },
     "execution_count": 38,
     "metadata": {},
     "output_type": "execute_result"
    }
   ],
   "source": [
    "Lam"
   ]
  },
  {
   "cell_type": "markdown",
   "metadata": {},
   "source": [
    "we see there is one eigenvalue with a numerically non-zero value (10).  Let's take a look at the eigenvector"
   ]
  },
  {
   "cell_type": "code",
   "execution_count": 39,
   "metadata": {},
   "outputs": [
    {
     "data": {
      "text/plain": [
       "array([-0.31622777, -0.31622777, -0.31622777, -0.31622777, -0.31622777,\n",
       "       -0.31622777, -0.31622777, -0.31622777, -0.31622777, -0.31622777])"
      ]
     },
     "execution_count": 39,
     "metadata": {},
     "output_type": "execute_result"
    }
   ],
   "source": [
    "V[:,-1]"
   ]
  },
  {
   "cell_type": "markdown",
   "metadata": {},
   "source": [
    "this is the vector with constant entries.  This agrees with our understanding of the operator `A`, which can be expressed as the symmetric rank-1 outer product of the vector with 1s in every entry."
   ]
  },
  {
   "cell_type": "markdown",
   "metadata": {},
   "source": [
    "## Randomized Linear Algebra\n",
    "\n",
    "In the past decade or two, randomized linear algebra has matured as a topic with lots of practical applications.  To read about the theory, see the 2009 paper by Halko, Martinsson, and Tropp: [Link](http://users.cms.caltech.edu/~jtropp/papers/HMT11-Finding-Structure-SIREV.pdf).\n",
    "\n",
    "SciPy does not (currently) have built-in functions for randomized linear algebra functionality (some languages like Julia do).  Fortunately, these algorithms are very easy to implement without worrying too much about the theory.\n",
    "\n",
    "For simplicity, we'll assume that `A` is symmetric with distinct eigenvectors, so we can limit the discussion to eigenvectors.  A rank-`k` approximation of `A` is an approximation by a rank-`k` outer product.  We can analyitically obtain the optimal rank-`k` approximation by computing a full eigenvalue decomposition of `A` and set all the eigenvalues outside the largest `k` (in magnitude) to 0.  Again, we don't want to actually compute the full eigenvalue decomposition, so we want an algorithm that does this in some provable way.\n",
    "\n",
    "The basic idea is to get an approximation of the range of an operator `A` by applying it to a bunch of random vectors. That is, we compute `A @ X`, where `X` is a matrix with random entries (we think of every column as a random vector). One way to think about the action of `A` is that it \"rotates\" these random vectors preferentially in the direction of the top eigenvectors, so if we look at the most important subspace of the span of the image  `A @ X` (as measured by the svd), we get a good approximation of the most important eigenspace.\n",
    "\n",
    "Randomized algorithms have probabilistic gurarantees.  The statement is roughly that if entries of `X` are iid sub-Gaussian random variables (you can replace \"sub-Gaussian\" with Gaussian), and if we use `k+p` random vectors (`p` is a small constant), we can get close to the top-`k` dimensional eigenspace *with high probability*.  In this case, *close* depends on something called the spectral gap, and *with high probability* means that in order to **not** be close to the desired subspace you would likely need to keep running computations with different random numbers for millions or billions of years before you would observe the algorithm fail.\n",
    "\n",
    "Let's see how this works in practice:"
   ]
  },
  {
   "cell_type": "code",
   "execution_count": 40,
   "metadata": {},
   "outputs": [],
   "source": [
    "import scipy.linalg as la\n",
    "\n",
    "def random_span_k_svd(A, k, p=10, power=0):\n",
    "    \"\"\"\n",
    "    Compute subspace whose span is close to contaning the top-k eigenspace of A\n",
    "    \n",
    "    p = number of dimensions to pad\n",
    "    power : number of times to run a power iteration on the subspace\n",
    "    \"\"\"\n",
    "    m, n = A.shape\n",
    "        \n",
    "    X = np.random.randn(n, k+p)\n",
    "    Y = A @ X\n",
    "    \n",
    "    U, s, Vt = la.svd(Y, full_matrices=False)\n",
    "    \n",
    "    for i in range(power):\n",
    "        Y = A @ U\n",
    "        U, s, Vt = la.svd(Y, full_matrices=False)\n",
    "    \n",
    "    \n",
    "    return U"
   ]
  },
  {
   "cell_type": "markdown",
   "metadata": {},
   "source": [
    "Here's a version that uses `orgqr` from LAPACK"
   ]
  },
  {
   "cell_type": "code",
   "execution_count": 41,
   "metadata": {},
   "outputs": [],
   "source": [
    "from scipy.linalg import lapack\n",
    "\n",
    "def random_span_k(A, k, p=10, power=0):\n",
    "    \"\"\"\n",
    "    Compute subspace whose span is close to contaning the top-k eigenspace of A\n",
    "    \n",
    "    p = number of dimensions to pad\n",
    "    power : number of times to run a power iteration on the subspace\n",
    "    \"\"\"\n",
    "    m, n = A.shape\n",
    "        \n",
    "    X = np.random.randn(n, k+p)\n",
    "    Y = A @ X\n",
    "    \n",
    "    m, n = Y.shape\n",
    "    lwork = max(3*n, 1)\n",
    "    qr, tau, work, info = lapack.dgeqrf(Y, lwork, 1) # overwrite A = True\n",
    "    Y, work, info = lapack.dorgqr(qr, tau, lwork, 1) # overwrite qr = True\n",
    "    \n",
    "    for i in range(power):\n",
    "        Y = A @ Y\n",
    "        qr, tau, work, info = lapack.dgeqrf(Y, lwork, 1) # overwrite A = True\n",
    "        Y, work, info = lapack.dorgqr(qr, tau, lwork, 1) # overwrite qr = True\n",
    "    \n",
    "    \n",
    "    return Y"
   ]
  },
  {
   "cell_type": "markdown",
   "metadata": {},
   "source": [
    "Let's test this on a diagonal matrix with entries 0 to `n-1` along the main diagonal.  In this case, the eigenvalues are integers, and the eigenvectors are the standard basis vectors."
   ]
  },
  {
   "cell_type": "code",
   "execution_count": 42,
   "metadata": {},
   "outputs": [
    {
     "data": {
      "text/plain": [
       "<100x100 sparse matrix of type '<class 'numpy.int64'>'\n",
       "\twith 100 stored elements (1 diagonals) in DIAgonal format>"
      ]
     },
     "execution_count": 42,
     "metadata": {},
     "output_type": "execute_result"
    }
   ],
   "source": [
    "n = 100\n",
    "D = sparse.dia_matrix((np.arange(n), [0]), shape=(n,n))\n",
    "D"
   ]
  },
  {
   "cell_type": "markdown",
   "metadata": {},
   "source": [
    "Let's compare the two versions"
   ]
  },
  {
   "cell_type": "code",
   "execution_count": 43,
   "metadata": {},
   "outputs": [],
   "source": [
    "k = 5"
   ]
  },
  {
   "cell_type": "code",
   "execution_count": 45,
   "metadata": {},
   "outputs": [
    {
     "name": "stdout",
     "output_type": "stream",
     "text": [
      "559 µs ± 27.8 µs per loop (mean ± std. dev. of 7 runs, 1000 loops each)\n"
     ]
    }
   ],
   "source": [
    "%timeit U = random_span_k_svd(D, k)"
   ]
  },
  {
   "cell_type": "code",
   "execution_count": 46,
   "metadata": {},
   "outputs": [
    {
     "name": "stdout",
     "output_type": "stream",
     "text": [
      "381 µs ± 11.4 µs per loop (mean ± std. dev. of 7 runs, 1000 loops each)\n"
     ]
    }
   ],
   "source": [
    "%timeit U = random_span_k(D, k)"
   ]
  },
  {
   "cell_type": "code",
   "execution_count": 47,
   "metadata": {},
   "outputs": [],
   "source": [
    "k = 5\n",
    "U = random_span_k(D, k)"
   ]
  },
  {
   "cell_type": "code",
   "execution_count": 48,
   "metadata": {},
   "outputs": [
    {
     "data": {
      "text/plain": [
       "array([[1., 0., 0., 0., 0.],\n",
       "       [0., 1., 0., 0., 0.],\n",
       "       [0., 0., 1., 0., 0.],\n",
       "       [0., 0., 0., 1., 0.],\n",
       "       [0., 0., 0., 0., 1.]])"
      ]
     },
     "execution_count": 48,
     "metadata": {},
     "output_type": "execute_result"
    }
   ],
   "source": [
    "lam, V = la.eigh(D.todense())\n",
    "V_true = V[:,-k:]\n",
    "V_true[-k:,:] # should see identity"
   ]
  },
  {
   "cell_type": "markdown",
   "metadata": {},
   "source": [
    "Let's take a look at how well `U` captures each eigenvector.  The distance from this subspace from the `i`th eigenvector is `norm(V[:,i].T*U)`.  Because the eigenvectors are canonical basis vectors, this is just the norm of the `i`th row of `U`"
   ]
  },
  {
   "cell_type": "code",
   "execution_count": 49,
   "metadata": {},
   "outputs": [
    {
     "data": {
      "image/png": "[encoded data removed]",
      "text/plain": [
       "<Figure size 432x288 with 1 Axes>"
      ]
     },
     "metadata": {
      "needs_background": "light"
     },
     "output_type": "display_data"
    }
   ],
   "source": [
    "Ui_norms = []\n",
    "for i in range(n):\n",
    "    Ui_norms.append(np.linalg.norm(U[i]))\n",
    "#     print(\"{:02d} : {}\".format(i, np.linalg.norm(U[i])))\n",
    "\n",
    "plt.plot(Ui_norms)\n",
    "plt.xlabel('eigenvector')\n",
    "plt.ylabel('weight')\n",
    "plt.show()"
   ]
  },
  {
   "cell_type": "markdown",
   "metadata": {},
   "source": [
    "As we see, `U` is closer to the larger eigenvectors, rather than the smaller eigenvectors.\n",
    "\n",
    "We can improve this estimate by running a couple of power iterations on the subspace (the `power` keyword defined above):"
   ]
  },
  {
   "cell_type": "code",
   "execution_count": 50,
   "metadata": {},
   "outputs": [
    {
     "data": {
      "image/png": "[encoded data removed]",
      "text/plain": [
       "<Figure size 432x288 with 1 Axes>"
      ]
     },
     "metadata": {
      "needs_background": "light"
     },
     "output_type": "display_data"
    }
   ],
   "source": [
    "U = random_span_k(D, k, power=5)\n",
    "Ui_norms = []\n",
    "for i in range(n):\n",
    "    Ui_norms.append(np.linalg.norm(U[i]))\n",
    "    \n",
    "#     print(\"{:02d} : {}\".format(i, np.linalg.norm(U[i])))\n",
    "\n",
    "plt.plot(Ui_norms)\n",
    "plt.xlabel('eigenvector')\n",
    "plt.ylabel('weight')\n",
    "plt.show()"
   ]
  },
  {
   "cell_type": "code",
   "execution_count": 51,
   "metadata": {},
   "outputs": [
    {
     "data": {
      "image/png": "[encoded data removed]",
      "text/plain": [
       "<Figure size 360x360 with 1 Axes>"
      ]
     },
     "metadata": {
      "needs_background": "light"
     },
     "output_type": "display_data"
    }
   ],
   "source": [
    "powers = [1, 4, 16, 64]\n",
    "\n",
    "fig, ax = plt.subplots(figsize=(5,5))\n",
    "\n",
    "for pi, power in enumerate(powers):\n",
    "    U = random_span_k(D, k, power=power)\n",
    "    Ui_norms = []\n",
    "    for i in range(n):\n",
    "        Ui_norms.append(np.linalg.norm(U[i]))\n",
    "\n",
    "    #     print(\"{:02d} : {}\".format(i, np.linalg.norm(U[i])))\n",
    "\n",
    "    ax.plot(Ui_norms, label=\"{}\".format(power))\n",
    "    \n",
    "ax.set_xlabel('eigenvector')\n",
    "ax.set_ylabel('weight')\n",
    "\n",
    "plt.legend(title='iterations')\n",
    "plt.show()\n"
   ]
  },
  {
   "cell_type": "code",
   "execution_count": 52,
   "metadata": {},
   "outputs": [
    {
     "data": {
      "text/plain": [
       "(100, 15)"
      ]
     },
     "execution_count": 52,
     "metadata": {},
     "output_type": "execute_result"
    }
   ],
   "source": [
    "U.shape"
   ]
  },
  {
   "cell_type": "markdown",
   "metadata": {},
   "source": [
    "## Exercises\n",
    "\n",
    "Download a couple of test matrices from the UFlorida Sparse Matrix collection [Link](https://sparse.tamu.edu/)\n",
    "For, example, use `mnist_test_norm_10NN` [Link](https://sparse.tamu.edu/ML_Graph/mnist_test_norm_10NN) which would probably be too large to store on your computer as a dense matrix.\n",
    "\n",
    "For each square matrix:\n",
    "1. Solve a random linear system using `splu`\n",
    "2. Solve a random linear system using either `minres` or `gmres` (which one should you use?)\n",
    "3. Compute the largest magnitude eigenvector using `eigs` or `eigsh` (which one should you use?)\n",
    "\n",
    "Find a non-square matrix and\n",
    "1. Solve a random least squares problem using `lsqr`\n",
    "2. Compute the largest singular vectors using `svds`"
   ]
  },
  {
   "cell_type": "code",
   "execution_count": null,
   "metadata": {},
   "outputs": [],
   "source": [
    "## Your code here\n"
   ]
  },
  {
   "cell_type": "code",
   "execution_count": 68,
   "metadata": {
    "tags": [
     "hide-cell"
    ]
   },
   "outputs": [
    {
     "data": {
      "text/plain": [
       "(2597, 3)"
      ]
     },
     "execution_count": 68,
     "metadata": {},
     "output_type": "execute_result"
    }
   ],
   "source": [
    "fname = '1138_bus.mtx'\n",
    "data = np.genfromtxt(fname, comments='%') # skip any rows that begin with `%`\n",
    "data.shape\n",
    "\n",
    "m, n = int(data[0,0]), int(data[0,1])\n",
    "data = data[1:]\n",
    "\n",
    "rows = data[:,0] - 1\n",
    "cols = data[:,1] - 1\n",
    "vals = data[:,2]\n",
    "A = sparse.coo_matrix((vals, (rows, cols)), shape=(m,n))\n",
    "A = A.tocsc()\n",
    "A"
   ]
  },
  {
   "cell_type": "markdown",
   "metadata": {
    "tags": [
     "hide-cell"
    ]
   },
   "source": [
    "Direct method"
   ]
  },
  {
   "cell_type": "code",
   "execution_count": 70,
   "metadata": {
    "scrolled": true,
    "tags": [
     "hide-cell"
    ]
   },
   "outputs": [],
   "source": [
    "LU = sla.splu(A)"
   ]
  },
  {
   "cell_type": "code",
   "execution_count": 81,
   "metadata": {
    "tags": [
     "hide-cell"
    ]
   },
   "outputs": [
    {
     "name": "stdout",
     "output_type": "stream",
     "text": [
      "3.729624510424685e-15\n"
     ]
    }
   ],
   "source": [
    "np.random.seed(0)\n",
    "x = np.random.randn(n)\n",
    "b = A @ x\n",
    "\n",
    "x2 = LU.solve(b)\n",
    "print(np.linalg.norm(x2 - x))"
   ]
  },
  {
   "cell_type": "markdown",
   "metadata": {
    "tags": [
     "hide-cell"
    ]
   },
   "source": [
    "Iterative method.  matrix is not symmetric, so use GMRES"
   ]
  },
  {
   "cell_type": "code",
   "execution_count": 83,
   "metadata": {
    "tags": [
     "hide-cell"
    ]
   },
   "outputs": [
    {
     "name": "stdout",
     "output_type": "stream",
     "text": [
      "1.1062499070369447\n"
     ]
    }
   ],
   "source": [
    "x3, exit_status = sla.gmres(A, b)\n",
    "print(np.linalg.norm(x3 - x))"
   ]
  },
  {
   "cell_type": "markdown",
   "metadata": {
    "tags": [
     "hide-cell"
    ]
   },
   "source": [
    "GMRES is very imprecise here, try preconditioning"
   ]
  },
  {
   "cell_type": "code",
   "execution_count": 84,
   "metadata": {
    "tags": [
     "hide-cell"
    ]
   },
   "outputs": [
    {
     "name": "stdout",
     "output_type": "stream",
     "text": [
      "4.777111230904957e-07\n"
     ]
    }
   ],
   "source": [
    "ILUfact = sla.spilu(A)\n",
    "\n",
    "M = sla.LinearOperator(\n",
    "    shape = A.shape,\n",
    "    matvec = lambda b: ILUfact.solve(b)\n",
    ")\n",
    "\n",
    "x3, exit_status = sla.gmres(A, b, M=M)\n",
    "print(np.linalg.norm(x3 - x))"
   ]
  }
 ],
 "metadata": {
  "celltoolbar": "Tags",
  "kernelspec": {
   "display_name": "Python (pycourse)",
   "language": "python",
   "name": "pycourse"
  },
  "language_info": {
   "codemirror_mode": {
    "name": "ipython",
    "version": 3
   },
   "file_extension": ".py",
   "mimetype": "text/x-python",
   "name": "python",
   "nbconvert_exporter": "python",
   "pygments_lexer": "ipython3",
   "version": "3.8.3"
  }
 },
 "nbformat": 4,
 "nbformat_minor": 4
}
